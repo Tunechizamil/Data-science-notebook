{
 "cells": [
  {
   "cell_type": "markdown",
   "id": "8ecf1355",
   "metadata": {},
   "source": [
    "# Data Science Tools and Ecosystem"
   ]
  },
  {
   "cell_type": "markdown",
   "id": "65798c6e",
   "metadata": {},
   "source": [
    "## in this notebook, Data science Tools and Ecosystem are summarized."
   ]
  },
  {
   "cell_type": "markdown",
   "id": "4d1e5e49",
   "metadata": {},
   "source": [
    "**Objectives:**\n",
    "    \n",
    "    - popular language used in data science\n",
    "    - list of commonly used libraries used in data science\n",
    "    - how to create a table in markdown\n",
    "    - how to multiply and add integers with comment"
   ]
  },
  {
   "cell_type": "markdown",
   "id": "b90435e3",
   "metadata": {},
   "source": [
    "### Some of the popular langauge that Data Scientists use are:\n",
    "\n",
    "1. Python\n",
    "2. R \n",
    "3. sql"
   ]
  },
  {
   "cell_type": "markdown",
   "id": "52a924c5",
   "metadata": {},
   "source": [
    "### some of the commonly used libraies used by Data Scientists include:\n",
    "\n",
    "1. Numpy\n",
    "2. Pandas\n",
    "3. Matplotlib"
   ]
  },
  {
   "cell_type": "markdown",
   "id": "e84cadcc",
   "metadata": {},
   "source": [
    "| Data Science Tools |\n",
    "| --- |\n",
    "| Jupyter Notebook |\n",
    "| RStudio |\n",
    "| Apache Zeppelin |"
   ]
  },
  {
   "cell_type": "markdown",
   "id": "a21ba1d4",
   "metadata": {},
   "source": [
    "### Below are a few examples of evaluating arithmetic expressions in python"
   ]
  },
  {
   "cell_type": "markdown",
   "id": "d6a86f10",
   "metadata": {},
   "source": [
    "#This is a simple arithmetic expression to multiply then add integers\n",
    "\n",
    "(3*4) + 5"
   ]
  },
  {
   "cell_type": "markdown",
   "id": "bab71d97",
   "metadata": {},
   "source": [
    "# This will convert 200 minutes to hours by dividing by 60 \n",
    "\n",
    "200/60"
   ]
  },
  {
   "cell_type": "markdown",
   "id": "0ef68f78",
   "metadata": {},
   "source": [
    "## Author\n",
    "Salako Idowu Muzzamil"
   ]
  },
  {
   "cell_type": "code",
   "execution_count": null,
   "id": "d9804455",
   "metadata": {},
   "outputs": [],
   "source": []
  }
 ],
 "metadata": {
  "kernelspec": {
   "display_name": "Python 3 (ipykernel)",
   "language": "python",
   "name": "python3"
  },
  "language_info": {
   "codemirror_mode": {
    "name": "ipython",
    "version": 3
   },
   "file_extension": ".py",
   "mimetype": "text/x-python",
   "name": "python",
   "nbconvert_exporter": "python",
   "pygments_lexer": "ipython3",
   "version": "3.9.13"
  }
 },
 "nbformat": 4,
 "nbformat_minor": 5
}
